{
  "nbformat": 4,
  "nbformat_minor": 0,
  "metadata": {
    "colab": {
      "name": "Anugya_Sanjay_Pandey.ipynb",
      "provenance": [],
      "collapsed_sections": [],
      "authorship_tag": "ABX9TyN/HEhdKA3Pd/UpBXpsWgAM",
      "include_colab_link": true
    },
    "kernelspec": {
      "name": "python3",
      "display_name": "Python 3"
    }
  },
  "cells": [
    {
      "cell_type": "markdown",
      "metadata": {
        "id": "view-in-github",
        "colab_type": "text"
      },
      "source": [
        "<a href=\"https://colab.research.google.com/github/AnugyaPandey/-Lenght-width-of-flowers-using-ML-PYTHON/blob/main/Anugya_Sanjay_Pandey.ipynb\" target=\"_parent\"><img src=\"https://colab.research.google.com/assets/colab-badge.svg\" alt=\"Open In Colab\"/></a>"
      ]
    },
    {
      "cell_type": "markdown",
      "metadata": {
        "id": "GS4kfKVCMGh1"
      },
      "source": [
        ""
      ]
    },
    {
      "cell_type": "markdown",
      "metadata": {
        "id": "XHgDBP-HilZE"
      },
      "source": [
        "Here I have imported some libraries:\n"
      ]
    },
    {
      "cell_type": "code",
      "metadata": {
        "id": "dCUuX-8jiUyR"
      },
      "source": [
        "import pandas as pd\n",
        "import numpy as  np\n"
      ],
      "execution_count": 1,
      "outputs": []
    },
    {
      "cell_type": "markdown",
      "metadata": {
        "id": "QSfXaQlcikRc"
      },
      "source": [
        "Exploring the data:"
      ]
    },
    {
      "cell_type": "code",
      "metadata": {
        "id": "dPzvqJJfkiPj"
      },
      "source": [
        "from sklearn.datasets import load_iris\n",
        "iris_datasets=load_iris()\n"
      ],
      "execution_count": 3,
      "outputs": []
    },
    {
      "cell_type": "markdown",
      "metadata": {
        "id": "KIecSl96kK8t"
      },
      "source": [
        "The iris object contains keys and values:\n"
      ]
    },
    {
      "cell_type": "code",
      "metadata": {
        "id": "1z9wO3rBkgZR",
        "colab": {
          "base_uri": "https://localhost:8080/"
        },
        "outputId": "900c2ff1-fb77-4141-a073-746b8f694802"
      },
      "source": [
        "print(\"keys of iris_dataset:\\n{}\".format(iris_datasets.keys()))"
      ],
      "execution_count": 4,
      "outputs": [
        {
          "output_type": "stream",
          "text": [
            "keys of iris_dataset:\n",
            "dict_keys(['data', 'target', 'target_names', 'DESCR', 'feature_names', 'filename'])\n"
          ],
          "name": "stdout"
        }
      ]
    },
    {
      "cell_type": "markdown",
      "metadata": {
        "id": "zVgcdqmBEFnk"
      },
      "source": [
        "The key DESCR is short description of the dataset it contians:"
      ]
    },
    {
      "cell_type": "code",
      "metadata": {
        "colab": {
          "base_uri": "https://localhost:8080/"
        },
        "id": "WNmM3KalEK0i",
        "outputId": "8644ec1c-7d89-4606-d9b8-31d77d046aa4"
      },
      "source": [
        "print(iris_datasets['DESCR'][:193] + \"\\n..\")"
      ],
      "execution_count": 5,
      "outputs": [
        {
          "output_type": "stream",
          "text": [
            ".. _iris_dataset:\n",
            "\n",
            "Iris plants dataset\n",
            "--------------------\n",
            "\n",
            "**Data Set Characteristics:**\n",
            "\n",
            "    :Number of Instances: 150 (50 in each of three classes)\n",
            "    :Number of Attributes: 4 numeric, pre\n",
            "..\n"
          ],
          "name": "stdout"
        }
      ]
    },
    {
      "cell_type": "markdown",
      "metadata": {
        "id": "nCjazVfsF2-X"
      },
      "source": [
        "The value of the key target_name is an array of strings contains species of flower we need to predict ie.'setosa','versicolor' & 'verginica'"
      ]
    },
    {
      "cell_type": "code",
      "metadata": {
        "colab": {
          "base_uri": "https://localhost:8080/"
        },
        "id": "peWaRTtEEGYL",
        "outputId": "339de418-cfcd-4642-c100-f8309f859182"
      },
      "source": [
        "print(\"target_names:{}\".format(iris_datasets['target_names']))"
      ],
      "execution_count": 6,
      "outputs": [
        {
          "output_type": "stream",
          "text": [
            "target_names:['setosa' 'versicolor' 'virginica']\n"
          ],
          "name": "stdout"
        }
      ]
    },
    {
      "cell_type": "markdown",
      "metadata": {
        "id": "GHSIlh5RIoGK"
      },
      "source": [
        "The value of key feature_names is a list of strings,it contains:"
      ]
    },
    {
      "cell_type": "code",
      "metadata": {
        "colab": {
          "base_uri": "https://localhost:8080/"
        },
        "id": "oNnvsknrIqef",
        "outputId": "fd76eb08-a222-4715-d223-756d343dd47f"
      },
      "source": [
        "print(\"feature_names: \\n{}\".format(iris_datasets['feature_names']))"
      ],
      "execution_count": 7,
      "outputs": [
        {
          "output_type": "stream",
          "text": [
            "feature_names: \n",
            "['sepal length (cm)', 'sepal width (cm)', 'petal length (cm)', 'petal width (cm)']\n"
          ],
          "name": "stdout"
        }
      ]
    },
    {
      "cell_type": "markdown",
      "metadata": {
        "id": "OS3DXKamIpHi"
      },
      "source": [
        "The type of data contains:"
      ]
    },
    {
      "cell_type": "code",
      "metadata": {
        "colab": {
          "base_uri": "https://localhost:8080/"
        },
        "id": "-wLLNA_9KLsZ",
        "outputId": "24ee9730-0802-487d-9212-c5618a668aa7"
      },
      "source": [
        "print(\"type of data: {}\".format(type(iris_datasets['data'])))"
      ],
      "execution_count": 8,
      "outputs": [
        {
          "output_type": "stream",
          "text": [
            "type of data: <class 'numpy.ndarray'>\n"
          ],
          "name": "stdout"
        }
      ]
    },
    {
      "cell_type": "markdown",
      "metadata": {
        "id": "2LuFR2jHKp7K"
      },
      "source": [
        "Shape of data contains:"
      ]
    },
    {
      "cell_type": "code",
      "metadata": {
        "colab": {
          "base_uri": "https://localhost:8080/"
        },
        "id": "rA0q390KLILq",
        "outputId": "df3bf3de-5836-4a64-91b2-61ccddf97105"
      },
      "source": [
        "print(\"Shape of data: {}\".format(iris_datasets['data'].shape))"
      ],
      "execution_count": null,
      "outputs": [
        {
          "output_type": "stream",
          "text": [
            "Shape of data: (150, 4)\n"
          ],
          "name": "stdout"
        }
      ]
    },
    {
      "cell_type": "markdown",
      "metadata": {
        "id": "8PfgM8R2LqZ9"
      },
      "source": [
        "feature values of first five samples are:"
      ]
    },
    {
      "cell_type": "code",
      "metadata": {
        "colab": {
          "base_uri": "https://localhost:8080/"
        },
        "id": "uhWIdbjgKuWx",
        "outputId": "3a2b9a86-22fc-4f18-fcac-f4dc89ad4687"
      },
      "source": [
        "print(\"first five columns of data are:\\n{}\".format(iris_datasets['data'][:5]))"
      ],
      "execution_count": 9,
      "outputs": [
        {
          "output_type": "stream",
          "text": [
            "first five columns of data are:\n",
            "[[5.1 3.5 1.4 0.2]\n",
            " [4.9 3.  1.4 0.2]\n",
            " [4.7 3.2 1.3 0.2]\n",
            " [4.6 3.1 1.5 0.2]\n",
            " [5.  3.6 1.4 0.2]]\n"
          ],
          "name": "stdout"
        }
      ]
    },
    {
      "cell_type": "markdown",
      "metadata": {
        "id": "jZ1ZJO_PKqJy"
      },
      "source": [
        "Type of target contains:"
      ]
    },
    {
      "cell_type": "code",
      "metadata": {
        "colab": {
          "base_uri": "https://localhost:8080/"
        },
        "id": "2VNotEeiKvQn",
        "outputId": "84a352a1-8064-4b35-a97c-b0a26da99e62"
      },
      "source": [
        "print(\"Type of target: {}\".format(type(iris_datasets['target'])))"
      ],
      "execution_count": 11,
      "outputs": [
        {
          "output_type": "stream",
          "text": [
            "Type of target: <class 'numpy.ndarray'>\n"
          ],
          "name": "stdout"
        }
      ]
    },
    {
      "cell_type": "markdown",
      "metadata": {
        "id": "Mgz1_TZyKs2L"
      },
      "source": [
        "Shape of target contains:"
      ]
    },
    {
      "cell_type": "code",
      "metadata": {
        "colab": {
          "base_uri": "https://localhost:8080/"
        },
        "id": "dIkG6PoYKwdc",
        "outputId": "404e6e9d-9ea8-4f07-b884-89bd2f6e338b"
      },
      "source": [
        "print(\"Shape of target: {}\".format(iris_datasets['target'].shape))"
      ],
      "execution_count": 12,
      "outputs": [
        {
          "output_type": "stream",
          "text": [
            "Shape of target: (150,)\n"
          ],
          "name": "stdout"
        }
      ]
    },
    {
      "cell_type": "markdown",
      "metadata": {
        "id": "W2_1btw3KtP5"
      },
      "source": [
        "The key target explores the values & encode the integer from 0 to 2 :"
      ]
    },
    {
      "cell_type": "code",
      "metadata": {
        "colab": {
          "base_uri": "https://localhost:8080/"
        },
        "id": "nUHD8FrkKyfG",
        "outputId": "1db2839d-d162-4421-bc02-202a03f28f44"
      },
      "source": [
        "print(\"target: {}\".format(iris_datasets['target']))"
      ],
      "execution_count": 15,
      "outputs": [
        {
          "output_type": "stream",
          "text": [
            "target: [0 0 0 0 0 0 0 0 0 0 0 0 0 0 0 0 0 0 0 0 0 0 0 0 0 0 0 0 0 0 0 0 0 0 0 0 0\n",
            " 0 0 0 0 0 0 0 0 0 0 0 0 0 1 1 1 1 1 1 1 1 1 1 1 1 1 1 1 1 1 1 1 1 1 1 1 1\n",
            " 1 1 1 1 1 1 1 1 1 1 1 1 1 1 1 1 1 1 1 1 1 1 1 1 1 1 2 2 2 2 2 2 2 2 2 2 2\n",
            " 2 2 2 2 2 2 2 2 2 2 2 2 2 2 2 2 2 2 2 2 2 2 2 2 2 2 2 2 2 2 2 2 2 2 2 2 2\n",
            " 2 2]\n"
          ],
          "name": "stdout"
        }
      ]
    },
    {
      "cell_type": "markdown",
      "metadata": {
        "id": "f8cAEoNsRDnU"
      },
      "source": [
        "Training & Testing data:"
      ]
    },
    {
      "cell_type": "code",
      "metadata": {
        "id": "c2M2UwzlRFnt"
      },
      "source": [
        "from sklearn.model_selection import train_test_split\n",
        "X_train, X_test, y_train, y_test=train_test_split(\n",
        "iris_datasets['data'], iris_datasets['target'], random_state=0)"
      ],
      "execution_count": 17,
      "outputs": []
    },
    {
      "cell_type": "markdown",
      "metadata": {
        "id": "NisPVHwxREHy"
      },
      "source": [
        "The output of train_test_split function is:"
      ]
    },
    {
      "cell_type": "code",
      "metadata": {
        "colab": {
          "base_uri": "https://localhost:8080/"
        },
        "id": "WPyoPVwzRGiT",
        "outputId": "19fd3898-ba1a-4a05-ef37-dc4336fd2f76"
      },
      "source": [
        "print(\"X_train shape: {}\".format(X_train.shape))\n",
        "print(\"y_train shape: {}\".format(y_train.shape))\n",
        "print(\"X_test shape: {}\".format(X_test.shape))\n",
        "print(\"y_test shape:{}\".format(y_test.shape))"
      ],
      "execution_count": 18,
      "outputs": [
        {
          "output_type": "stream",
          "text": [
            "X_train shape: (112, 4)\n",
            "y_train shape: (112,)\n",
            "X_test shape: (38, 4)\n",
            "y_test shape:(38,)\n"
          ],
          "name": "stdout"
        }
      ]
    },
    {
      "cell_type": "markdown",
      "metadata": {
        "id": "2ELy9dbYREi3"
      },
      "source": [
        "K-nearest neighbor Machine learning model:"
      ]
    },
    {
      "cell_type": "code",
      "metadata": {
        "id": "IXmdRfB4RJLj"
      },
      "source": [
        "from sklearn.neighbors import KNeighborsClassifier\n",
        "knn = KNeighborsClassifier(n_neighbors=1)"
      ],
      "execution_count": 19,
      "outputs": []
    },
    {
      "cell_type": "markdown",
      "metadata": {
        "id": "Ca9BCfx1apmf"
      },
      "source": [
        "Algorithm to build the model from training data:"
      ]
    },
    {
      "cell_type": "code",
      "metadata": {
        "colab": {
          "base_uri": "https://localhost:8080/"
        },
        "id": "tC-ou0q2axUa",
        "outputId": "d5202c08-712d-4876-e8cd-ca9eb261d423"
      },
      "source": [
        "knn.fit(X_train, y_train)"
      ],
      "execution_count": 20,
      "outputs": [
        {
          "output_type": "execute_result",
          "data": {
            "text/plain": [
              "KNeighborsClassifier(algorithm='auto', leaf_size=30, metric='minkowski',\n",
              "                     metric_params=None, n_jobs=None, n_neighbors=1, p=2,\n",
              "                     weights='uniform')"
            ]
          },
          "metadata": {
            "tags": []
          },
          "execution_count": 20
        }
      ]
    },
    {
      "cell_type": "markdown",
      "metadata": {
        "id": "xSj-G2AKbLSe"
      },
      "source": [
        "Making Predictions:"
      ]
    },
    {
      "cell_type": "code",
      "metadata": {
        "colab": {
          "base_uri": "https://localhost:8080/"
        },
        "id": "v9-SRNQCbW7r",
        "outputId": "6149ca34-2c5b-43c8-b227-78b5181ded02"
      },
      "source": [
        "X_new = np.array([[5, 2.9, 1, 0.2]])\n",
        "print(\"X_new.shape: {}\".format(X_new.shape))"
      ],
      "execution_count": 21,
      "outputs": [
        {
          "output_type": "stream",
          "text": [
            "X_new.shape: (1, 4)\n"
          ],
          "name": "stdout"
        }
      ]
    },
    {
      "cell_type": "markdown",
      "metadata": {
        "id": "7d15sp0FhHhZ"
      },
      "source": [
        "Making prediction for particular point:"
      ]
    },
    {
      "cell_type": "code",
      "metadata": {
        "colab": {
          "base_uri": "https://localhost:8080/"
        },
        "id": "7sNbb1a8hhEn",
        "outputId": "7eadd99a-2cd0-4e09-de03-0057134b8a6c"
      },
      "source": [
        "prediction = knn.predict(X_new)\n",
        "print(\"Prediction: {}\".format(prediction))\n",
        "print(\"Predicted target name: {}\".format(\n",
        "iris_datasets['target_names'][prediction]))"
      ],
      "execution_count": 22,
      "outputs": [
        {
          "output_type": "stream",
          "text": [
            "Prediction: [0]\n",
            "Predicted target name: ['setosa']\n"
          ],
          "name": "stdout"
        }
      ]
    },
    {
      "cell_type": "markdown",
      "metadata": {
        "id": "YWVWqQW9jT-6"
      },
      "source": [
        "Evaluating the Model:"
      ]
    },
    {
      "cell_type": "code",
      "metadata": {
        "colab": {
          "base_uri": "https://localhost:8080/"
        },
        "id": "nHM0MszTjUfn",
        "outputId": "02ae02ca-029d-4de5-f51c-f787ca5df0bb"
      },
      "source": [
        "y_pred = knn.predict(X_test)\n",
        "print(\"Test set predictions:\\n {}\".format(y_pred))"
      ],
      "execution_count": 23,
      "outputs": [
        {
          "output_type": "stream",
          "text": [
            "Test set predictions:\n",
            " [2 1 0 2 0 2 0 1 1 1 2 1 1 1 1 0 1 1 0 0 2 1 0 0 2 0 0 1 1 0 2 1 0 2 2 1 0\n",
            " 2]\n"
          ],
          "name": "stdout"
        }
      ]
    },
    {
      "cell_type": "code",
      "metadata": {
        "colab": {
          "base_uri": "https://localhost:8080/"
        },
        "id": "i965fb6Jj9Wd",
        "outputId": "412a8e8c-c77d-488a-fb94-859b07a5050e"
      },
      "source": [
        "print(\"Test set score: {}\".format(np.mean(y_pred == y_test)))"
      ],
      "execution_count": 24,
      "outputs": [
        {
          "output_type": "stream",
          "text": [
            "Test set score: 0.9736842105263158\n"
          ],
          "name": "stdout"
        }
      ]
    }
  ]
}